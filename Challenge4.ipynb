{
 "cells": [
  {
   "cell_type": "code",
   "execution_count": null,
   "metadata": {},
   "outputs": [],
   "source": [
    "import csv\n",
    "import pandas as pd\n",
    "\n",
    "schools = pd.read_csv('schools_complete.csv')\n",
    "students = pd.read_csv('students_complete.csv')\n",
    "nb_of_schools = len (schools['school_name'].unique())\n",
    "nb_total_students = len (students['student_name'])\n",
    "total_budget = schools['budget'].sum()\n",
    "avg_Math_score = students['math_score'].mean()\n",
    "avg_Reading_score = students['reading_score'].mean()\n",
    "students['passed_Math'] = students['math_score']>=60\n",
    "nb_students_passed_Math = len (students[students['passed_Math']])\n",
    "perc_students_passed_Math = round ((nb_students_passed_Math/nb_total_students)*100,2)\n",
    "students['passed_Reading'] = students['reading_score']>=60\n",
    "nb_students_passed_Reading = len (students[students['passed_Reading']])\n",
    "perc_students_passed_Reading = round ((nb_students_passed_Reading/nb_total_students)*100,2)\n",
    "perc_passed_M_R = (perc_students_passed_Math+perc_students_passed_Reading)/2\n",
    "\n",
    "print('Total nb of all schools : ', nb_of_schools)\n",
    "print('Total nb of students : ',nb_total_students)\n",
    "print('Avg Math score :',avg_Math_score)\n",
    "print('Avg Reading score :',avg_Reading_score)\n",
    "print('Perc passing Math : ',perc_students_passed_Math)\n",
    "print('Perc passing Reading : ',perc_students_passed_Reading)\n",
    "print('Perc passing R and M : ',perc_passed_M_R)"
   ]
  },
  {
   "cell_type": "code",
   "execution_count": null,
   "metadata": {},
   "outputs": [],
   "source": [
    "\n",
    "\n",
    "\n",
    "# School Summary\n",
    "\n",
    "\n",
    "ss=pd.merge(schools,students,on='school_name')\n",
    "ss_1=ss.groupby(['type','school_name'])['Student ID'].count()\n",
    "\n",
    "\n",
    "ss_2=ss.groupby(['type','school_name'])['budget'].max()\n",
    "ss_3=pd.merge(ss_1,ss_2,on=(['type','school_name']))\n",
    "\n",
    "\n",
    "ss_4=ss_3.rename(columns={'Student ID':'Total nb of students',\n",
    "                                 'budget':'Total budget / school'})\n",
    "\n",
    "ss_4['Budget / student'] = ss_4['Total budget / school']/ss_4['Total nb of students']\n",
    "ss_4['Avg Math score / school']=round ( ss.groupby(['type','school_name'])['math_score'].mean(),2 )\n",
    "ss_4['Avg Reading score / school']=round (ss.groupby(['type','school_name'])['reading_score'].mean(),2 )\n",
    "\n",
    "\n",
    "ss['passed_Math']=ss['math_score']>=60\n",
    "ss_5=ss[ss['passed_Math']]\n",
    "ss_4['Students passed Math / school']=ss_5.groupby(['type','school_name'])['passed_Math'].count()\n",
    "ss_4['Perc students passed Math / school'] \\\n",
    "= round((ss_4['Students passed Math / school']/ss_4['Total nb of students'])*100,2)\n",
    "\n",
    "\n",
    "ss['passed_Reading']=ss['reading_score']>=60\n",
    "ss_6=ss[ss['passed_Reading']]\n",
    "ss_4['Students passed Reading / school']=ss_6.groupby(['type','school_name'])['passed_Reading'].count()\n",
    "ss_4['Perc students passed Reading / school'] \\\n",
    "= round((ss_4['Students passed Reading / school']/ss_4['Total nb of students'])*100,2)\n",
    "\n",
    "\n",
    "ss_4['Perc students passed M and R / school'] = \\\n",
    "(ss_4['Perc students passed Math / school'] + ss_4['Perc students passed Reading / school'])/2\n",
    "\n",
    "\n",
    "print('School summary table :')\n",
    "display(ss_4)"
   ]
  },
  {
   "cell_type": "code",
   "execution_count": null,
   "metadata": {},
   "outputs": [],
   "source": [
    "# Get the highest performing schools\n",
    "\n",
    "top_schools = ss_4['Perc students passed M and R / school'].sort_values(ascending=False).head()\n",
    "top_schools=pd.DataFrame(top_schools)\n",
    "\n",
    "print('Top performing school table :')\n",
    "display(top_schools)"
   ]
  },
  {
   "cell_type": "code",
   "execution_count": null,
   "metadata": {},
   "outputs": [],
   "source": [
    "# Get the lowest performing schools\n",
    "bottom_schools = ss_4['Perc students passed M and R / school'].sort_values(ascending=True).head()\n",
    "bottom_schools=pd.DataFrame(bottom_schools)\n",
    "\n",
    "print('Lowest performing school table :')\n",
    "display(bottom_schools)"
   ]
  },
  {
   "cell_type": "code",
   "execution_count": null,
   "metadata": {},
   "outputs": [],
   "source": [
    "# Avg Math score per school/grade\n",
    "\n",
    "ss_7=ss.groupby(['school_name','grade'])['math_score'].mean()\n",
    "ss_7=pd.DataFrame(ss_7)\n",
    "\n",
    "\n",
    "print('Ave Math score per school/grade table :')\n",
    "display(ss_7)"
   ]
  },
  {
   "cell_type": "code",
   "execution_count": null,
   "metadata": {},
   "outputs": [],
   "source": [
    "# Avg Reading score per school/grade\n",
    "\n",
    "ss_8=ss.groupby(['school_name','grade'])['reading_score'].mean()\n",
    "ss_8=pd.DataFrame(ss_7)\n",
    "\n",
    "\n",
    "print('Avg reading score per school/grade table :')\n",
    "display(ss_8)"
   ]
  },
  {
   "cell_type": "code",
   "execution_count": null,
   "metadata": {},
   "outputs": [],
   "source": [
    "spending_bins = [0, 585, 630, 645, 680]\n",
    "labels = [\"<$585\", \"$585-630\", \"$630-645\", \"$645-680\"]\n",
    "\n",
    "ss_4['Avg spending per student'] = pd.cut(ss_4['Budget / student'],\n",
    "                                spending_bins,labels=labels,\n",
    "                                 include_lowest=True)\n",
    "\n",
    "\n",
    "print('School spending per score table :')\n",
    "display(ss_4)"
   ]
  },
  {
   "cell_type": "code",
   "execution_count": null,
   "metadata": {},
   "outputs": [],
   "source": [
    "spending_summary = pd.DataFrame()\n",
    "#spending_math_scores = school_spending_df.groupby([\"Spending Ranges (Per Student)\"])[\"Average Math Score\"].mean()\n",
    "spending_summary['Spending Math scores']=ss_4.groupby('Avg spending per student')['Avg Math score / school'].mean()\n",
    "#spending_reading_scores = school_spending_df.groupby([\"Spending Ranges (Per Student)\"])[\"Average Reading Score\"].mean()\n",
    "spending_summary['Spending Reading scores']=ss_4.groupby('Avg spending per student')['Avg Reading score / school'].mean()\n",
    "#spending_passing_math = school_spending_df.groupby([\"Spending Ranges (Per Student)\"])[\"% Passing Math\"].mean()\n",
    "spending_summary['Spending passing Math']=ss_4.groupby('Avg spending per student')['Perc students passed Math / school'].mean()\n",
    "#spending_passing_reading = school_spending_df.groupby([\"Spending Ranges (Per Student)\"])[\"% Passing Reading\"].mean()\n",
    "spending_summary['Spending passing Reading']=ss_4.groupby('Avg spending per student')['Perc students passed Reading / school'].mean()\n",
    "#overall_passing_spending = school_spending_df.groupby([\"Spending Ranges (Per Student)\"])[\"% Overall Passing\"].mean()\n",
    "spending_summary['Spending passing R and M']=ss_4.groupby('Avg spending per student')['Perc students passed M and R / school'].mean()\n",
    "#spending_summary['Spending Math score'] = ss_4\n",
    "\n",
    "\n",
    "print('Spending summary table :')\n",
    "display(spending_summary)"
   ]
  },
  {
   "cell_type": "code",
   "execution_count": null,
   "metadata": {},
   "outputs": [],
   "source": [
    "# size summary using cut method\n",
    "size_bins = [0, 1000, 2000, 5000]\n",
    "labels = [\"Small (<1000)\", \"Medium (1000-2000)\", \"Large (2000-5000)\"]\n",
    "size_summary  = pd.DataFrame()\n",
    "size_summary ['School size based on performance'] = pd.cut(ss_4['Total nb of students'],\n",
    "                                                          bins=size_bins,labels=labels,\n",
    "                                                          include_lowest=True)\n",
    "\n",
    "\n",
    "print('Size summary table :')\n",
    "display(size_summary)"
   ]
  },
  {
   "cell_type": "code",
   "execution_count": null,
   "metadata": {},
   "outputs": [],
   "source": []
  }
 ],
 "metadata": {
  "kernelspec": {
   "display_name": "base",
   "language": "python",
   "name": "python3"
  },
  "language_info": {
   "codemirror_mode": {
    "name": "ipython",
    "version": 3
   },
   "file_extension": ".py",
   "mimetype": "text/x-python",
   "name": "python",
   "nbconvert_exporter": "python",
   "pygments_lexer": "ipython3",
   "version": "3.9.13"
  },
  "orig_nbformat": 4
 },
 "nbformat": 4,
 "nbformat_minor": 2
}
